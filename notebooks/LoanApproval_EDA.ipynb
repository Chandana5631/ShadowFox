# Loan Approval EDA

Use this notebook to:
- Inspect data schema, nulls, and class balance
- Visualize numeric and categorical features
- Explore correlations and feature importance (after a quick model)

Suggested steps:
1. Load data from local path or Google Drive URL.
2. Inspect `df.info()`, `df.describe()`, and missingness.
3. Plot target distribution and key features.
4. Create engineered features (`TotalIncome`, `DebtToIncomeRatio`) to compare distributions.
