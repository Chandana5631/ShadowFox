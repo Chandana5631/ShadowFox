## Load Data
Provide a local CSV path or Google Drive URL/file-id.import pandas as pd
import numpy as np
import seaborn as sns
import matplotlib.pyplot as plt

from src.loan_approval.data import load_dataset, stratified_split
from src.loan_approval.preprocessing import engineer_optional_features, infer_feature_types
from src.loan_approval.model import train_model, compute_metrics

%matplotlib inline# Loan Approval EDA and Modeling

This notebook explores the dataset, handles missing values, encodes features, and trains baseline models.