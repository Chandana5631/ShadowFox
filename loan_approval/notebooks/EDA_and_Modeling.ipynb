# Load data (choose ONE of the options below)
# df = load_csv('/absolute/path/to/your_dataset.csv')
# df = load_from_gdrive_file_id('YOUR_FILE_ID')

df = pd.DataFrame()  # replace with one of the above
print(df.head())%load_ext autoreload
%autoreload 2
import os, sys, json, numpy as np, pandas as pd, seaborn as sns, matplotlib.pyplot as plt
sys.path.append(os.path.abspath('../src'))
from loan_approval import __version__
from loan_approval.config import TARGET_COLUMN
from loan_approval.data_loader import load_csv, load_from_gdrive_file_id
from loan_approval.preprocessing import make_dataset
from loan_approval.modeling import stratified_train_val_test_split, build_logistic_regression, build_random_forest, compute_metrics
print('loan_approval version:', __version__)
